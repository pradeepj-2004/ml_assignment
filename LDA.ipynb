{
 "cells": [
  {
   "cell_type": "code",
   "execution_count": 1,
   "metadata": {},
   "outputs": [],
   "source": [
    "import numpy as np\n",
    "import matplotlib.pyplot as plt\n",
    "\n",
    "X_1= np.array([[4,1],\n",
    "               [2,4],\n",
    "               [2,3],\n",
    "               [3,6],\n",
    "               [4,4]\n",
    "               ])\n",
    "X_2= np.array([[9,10],\n",
    "               [6,8],\n",
    "               [9,5],\n",
    "               [8,7],\n",
    "               [10,8]\n",
    "               ])"
   ]
  },
  {
   "cell_type": "code",
   "execution_count": 2,
   "metadata": {},
   "outputs": [
    {
     "name": "stdout",
     "output_type": "stream",
     "text": [
      "Means\n",
      "[3.0, 3.6]\n",
      "[8.4, 7.6]\n"
     ]
    }
   ],
   "source": [
    "mean_1=[X_1[:,0].mean(), X_1[:,1].mean()]\n",
    "mean_2=[X_2[:,0].mean(), X_2[:,1].mean()]\n",
    "std_1 = [X_1[:,0].std(), X_1[:,1].std()]\n",
    "std_2 = [X_2[:,0].std(), X_2[:,1].std()]\n",
    "print(\"Means\")\n",
    "print(mean_1)\n",
    "print(mean_2)"
   ]
  },
  {
   "cell_type": "code",
   "execution_count": 4,
   "metadata": {},
   "outputs": [
    {
     "name": "stdout",
     "output_type": "stream",
     "text": [
      "centralised data\n",
      "C1\n",
      "[[ 1.  -1.  -1.   0.   1. ]\n",
      " [-2.6  0.4 -0.6  2.4  0.4]]\n",
      "C2\n",
      "[[ 0.6 -2.4  0.6 -0.4  1.6]\n",
      " [ 2.4  0.4 -2.6 -0.6  0.4]]\n",
      "\n"
     ]
    }
   ],
   "source": [
    "C_1 =np.array([(X_1[:,0] -mean_1[0]) ,(X_1[:,1] -mean_1[1]) ])\n",
    "C_2 =np.array([ (X_2[:,0] -mean_2[0]) ,(X_2[:,1] -mean_2[1]) ])\n",
    "print(\"centralised data\")\n",
    "print(\"C1\")\n",
    "print(C_1)\n",
    "print(\"C2\")\n",
    "print(C_2)\n",
    "print(\"\")\n",
    "\n",
    "C_1_t=C_1.T\n",
    "C_2_t=C_2.T\n"
   ]
  },
  {
   "cell_type": "code",
   "execution_count": 7,
   "metadata": {},
   "outputs": [
    {
     "name": "stdout",
     "output_type": "stream",
     "text": [
      "Scatter Matrix\n",
      "S_1\n",
      "[[ 4.  -2. ]\n",
      " [-2.  13.2]]\n",
      "S_2\n",
      "[[ 9.2 -0.2]\n",
      " [-0.2 13.2]]\n",
      "\n"
     ]
    }
   ],
   "source": [
    "\n",
    "S_1= np.dot(C_1,C_1_t)\n",
    "S_2= np.dot(C_2,C_2_t)\n",
    "\n",
    "print(\"Scatter Matrix\")\n",
    "print(\"S_1\")\n",
    "print(S_1)\n",
    "print(\"S_2\")\n",
    "print(S_2)\n",
    "print(\"\")"
   ]
  },
  {
   "cell_type": "code",
   "execution_count": 8,
   "metadata": {},
   "outputs": [
    {
     "name": "stdout",
     "output_type": "stream",
     "text": [
      "S_W\n",
      "[[13.2 -2.2]\n",
      " [-2.2 26.4]]\n",
      "\n"
     ]
    }
   ],
   "source": [
    "S_W= np.add(S_1,S_2)\n",
    "print(\"S_W\")\n",
    "print(S_W)\n",
    "print(\"\")"
   ]
  },
  {
   "cell_type": "code",
   "execution_count": 9,
   "metadata": {},
   "outputs": [
    {
     "name": "stdout",
     "output_type": "stream",
     "text": [
      "S_b\n",
      "[[29.16 21.6 ]\n",
      " [21.6  16.  ]]\n",
      "\n"
     ]
    }
   ],
   "source": [
    "\n",
    "mean_diff=np.array([[ mean_1[0]-mean_2[0],mean_1[1]-mean_2[1]]])\n",
    "mean_diff_t= mean_diff.T\n",
    "S_B=np.dot(mean_diff_t,mean_diff)\n",
    "print(\"S_b\")\n",
    "print(S_B)\n",
    "print(\"\")"
   ]
  },
  {
   "cell_type": "code",
   "execution_count": 10,
   "metadata": {},
   "outputs": [
    {
     "name": "stdout",
     "output_type": "stream",
     "text": [
      "A_matrix\n",
      "[[2.37848912 1.76184379]\n",
      " [1.01638924 0.75288092]]\n",
      "\n",
      "eigen_matrx\n",
      "[3.13137004 0.        ]\n",
      "[[ 0.91955932 -0.59522755]\n",
      " [ 0.39295122  0.80355719]]\n",
      "\n"
     ]
    }
   ],
   "source": [
    "S_w_inv=np.linalg.inv(S_W)\n",
    "A_matrix=np.linalg.inv(S_W) @ S_B\n",
    "\n",
    "print(\"A_matrix\")\n",
    "print(A_matrix)\n",
    "print(\"\")\n",
    "\n",
    "eigen_val,eigen_vec=np.linalg.eig(A_matrix)\n",
    "print(\"eigen_matrx\")\n",
    "print(eigen_val)\n",
    "print(eigen_vec)\n",
    "print(\"\")\n"
   ]
  },
  {
   "cell_type": "code",
   "execution_count": 11,
   "metadata": {},
   "outputs": [
    {
     "name": "stdout",
     "output_type": "stream",
     "text": [
      "[4.07118849 3.41092352 3.0179723  5.11638527 5.25004215]\n",
      "[12.20554606  8.66096567 10.24078996 10.10713308 12.33920294]\n"
     ]
    }
   ],
   "source": [
    "\n",
    "x_1_reduced= X_1 @ eigen_vec[:,0]\n",
    "x_2_reduced=X_2 @ eigen_vec[:,0]\n",
    "\n",
    "print(x_1_reduced)\n",
    "print(x_2_reduced)\n"
   ]
  },
  {
   "cell_type": "code",
   "execution_count": 12,
   "metadata": {},
   "outputs": [
    {
     "data": {
      "image/png": "[encoded data removed]",
      "text/plain": [
       "<Figure size 640x480 with 1 Axes>"
      ]
     },
     "metadata": {},
     "output_type": "display_data"
    }
   ],
   "source": [
    "\n",
    "\n",
    "\n",
    "plt.figure()\n",
    "plt.scatter(x_1_reduced, np.zeros_like(x_1_reduced), color='red', label='Class 1')\n",
    "plt.scatter(x_2_reduced, np.zeros_like(x_2_reduced), color='blue', label='Class 2')\n",
    "plt.title('LDA: Reduced Data Projection')\n",
    "plt.xlabel('LDA Component 1')\n",
    "plt.legend()\n",
    "# plt.savefig(\"ml_fig_3\")\n",
    "plt.show()\n",
    "\n",
    "\n",
    "\n"
   ]
  }
 ],
 "metadata": {
  "kernelspec": {
   "display_name": "base",
   "language": "python",
   "name": "python3"
  },
  "language_info": {
   "codemirror_mode": {
    "name": "ipython",
    "version": 3
   },
   "file_extension": ".py",
   "mimetype": "text/x-python",
   "name": "python",
   "nbconvert_exporter": "python",
   "pygments_lexer": "ipython3",
   "version": "3.12.4"
  }
 },
 "nbformat": 4,
 "nbformat_minor": 2
}
